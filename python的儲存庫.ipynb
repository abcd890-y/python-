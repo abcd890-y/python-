{
  "nbformat": 4,
  "nbformat_minor": 0,
  "metadata": {
    "colab": {
      "name": "python的儲存庫.ipynb",
      "provenance": [],
      "collapsed_sections": [],
      "authorship_tag": "ABX9TyOoJ33l0as/AvkFcBZ0hcsg",
      "include_colab_link": true
    },
    "kernelspec": {
      "name": "python3",
      "display_name": "Python 3"
    },
    "language_info": {
      "name": "python"
    }
  },
  "cells": [
    {
      "cell_type": "markdown",
      "metadata": {
        "id": "view-in-github",
        "colab_type": "text"
      },
      "source": [
        "<a href=\"https://colab.research.google.com/github/abcd890-y/python-/blob/main/python%E7%9A%84%E5%84%B2%E5%AD%98%E5%BA%AB.ipynb\" target=\"_parent\"><img src=\"https://colab.research.google.com/assets/colab-badge.svg\" alt=\"Open In Colab\"/></a>"
      ]
    },
    {
      "cell_type": "markdown",
      "source": [
        "## 資管二甲 羅祐蓁 B09090057"
      ],
      "metadata": {
        "id": "cquWhsvahthE"
      }
    },
    {
      "cell_type": "markdown",
      "source": [
        "## Chap0"
      ],
      "metadata": {
        "id": "Ln1CLI_5tHZU"
      }
    },
    {
      "cell_type": "markdown",
      "source": [
        "\n",
        "- import匯入\n",
        "\n",
        "- calendar日曆\n",
        "- month月\n",
        "\n",
        "- matplotlib.pyplot = plt = 圖表\n",
        "- bar=直條圖\n",
        "- pie=圓餅圖\n",
        "- show=顯示"
      ],
      "metadata": {
        "id": "u61yWWRbiy-E"
      }
    },
    {
      "cell_type": "code",
      "source": [
        "import calendar\n",
        "print(calendar.month(2022,3))"
      ],
      "metadata": {
        "colab": {
          "base_uri": "https://localhost:8080/"
        },
        "id": "qwWAh2Jhi7Ej",
        "outputId": "9a7549d5-672d-4227-fa85-ffaf190be241"
      },
      "execution_count": null,
      "outputs": [
        {
          "output_type": "stream",
          "name": "stdout",
          "text": [
            "     March 2022\n",
            "Mo Tu We Th Fr Sa Su\n",
            "    1  2  3  4  5  6\n",
            " 7  8  9 10 11 12 13\n",
            "14 15 16 17 18 19 20\n",
            "21 22 23 24 25 26 27\n",
            "28 29 30 31\n",
            "\n"
          ]
        }
      ]
    },
    {
      "cell_type": "code",
      "source": [
        "import calendar\n",
        "print(calendar.calendar(2022))"
      ],
      "metadata": {
        "colab": {
          "base_uri": "https://localhost:8080/"
        },
        "id": "u7Y6WBmYjB7T",
        "outputId": "5d8a25fd-83cd-4f6d-c3f5-0976d248401b"
      },
      "execution_count": null,
      "outputs": [
        {
          "output_type": "stream",
          "name": "stdout",
          "text": [
            "                                  2022\n",
            "\n",
            "      January                   February                   March\n",
            "Mo Tu We Th Fr Sa Su      Mo Tu We Th Fr Sa Su      Mo Tu We Th Fr Sa Su\n",
            "                1  2          1  2  3  4  5  6          1  2  3  4  5  6\n",
            " 3  4  5  6  7  8  9       7  8  9 10 11 12 13       7  8  9 10 11 12 13\n",
            "10 11 12 13 14 15 16      14 15 16 17 18 19 20      14 15 16 17 18 19 20\n",
            "17 18 19 20 21 22 23      21 22 23 24 25 26 27      21 22 23 24 25 26 27\n",
            "24 25 26 27 28 29 30      28                        28 29 30 31\n",
            "31\n",
            "\n",
            "       April                      May                       June\n",
            "Mo Tu We Th Fr Sa Su      Mo Tu We Th Fr Sa Su      Mo Tu We Th Fr Sa Su\n",
            "             1  2  3                         1             1  2  3  4  5\n",
            " 4  5  6  7  8  9 10       2  3  4  5  6  7  8       6  7  8  9 10 11 12\n",
            "11 12 13 14 15 16 17       9 10 11 12 13 14 15      13 14 15 16 17 18 19\n",
            "18 19 20 21 22 23 24      16 17 18 19 20 21 22      20 21 22 23 24 25 26\n",
            "25 26 27 28 29 30         23 24 25 26 27 28 29      27 28 29 30\n",
            "                          30 31\n",
            "\n",
            "        July                     August                  September\n",
            "Mo Tu We Th Fr Sa Su      Mo Tu We Th Fr Sa Su      Mo Tu We Th Fr Sa Su\n",
            "             1  2  3       1  2  3  4  5  6  7                1  2  3  4\n",
            " 4  5  6  7  8  9 10       8  9 10 11 12 13 14       5  6  7  8  9 10 11\n",
            "11 12 13 14 15 16 17      15 16 17 18 19 20 21      12 13 14 15 16 17 18\n",
            "18 19 20 21 22 23 24      22 23 24 25 26 27 28      19 20 21 22 23 24 25\n",
            "25 26 27 28 29 30 31      29 30 31                  26 27 28 29 30\n",
            "\n",
            "      October                   November                  December\n",
            "Mo Tu We Th Fr Sa Su      Mo Tu We Th Fr Sa Su      Mo Tu We Th Fr Sa Su\n",
            "                1  2          1  2  3  4  5  6                1  2  3  4\n",
            " 3  4  5  6  7  8  9       7  8  9 10 11 12 13       5  6  7  8  9 10 11\n",
            "10 11 12 13 14 15 16      14 15 16 17 18 19 20      12 13 14 15 16 17 18\n",
            "17 18 19 20 21 22 23      21 22 23 24 25 26 27      19 20 21 22 23 24 25\n",
            "24 25 26 27 28 29 30      28 29 30                  26 27 28 29 30 31\n",
            "31\n",
            "\n"
          ]
        }
      ]
    },
    {
      "cell_type": "code",
      "source": [
        "import matplotlib.pyplot as plt #matplotlib.pyplot = plt = 圖表\n",
        "x=[1,2,3]\n",
        "y=[4,5,6]\n",
        "plt.bar(x,y) #bar=直條圖\n",
        "plt.show #show=顯示"
      ],
      "metadata": {
        "colab": {
          "base_uri": "https://localhost:8080/",
          "height": 282
        },
        "id": "vpiI4ucSjDkj",
        "outputId": "900cabf3-c6a6-4e66-deda-f586e79cda85"
      },
      "execution_count": null,
      "outputs": [
        {
          "output_type": "execute_result",
          "data": {
            "text/plain": [
              "<function matplotlib.pyplot.show>"
            ]
          },
          "metadata": {},
          "execution_count": 3
        },
        {
          "output_type": "display_data",
          "data": {
            "text/plain": [
              "<Figure size 432x288 with 1 Axes>"
            ],
            "image/png": "[encoded data removed]"
          },
          "metadata": {
            "needs_background": "light"
          }
        }
      ]
    },
    {
      "cell_type": "code",
      "source": [
        "plt.pie(x, labels=y) #pie=圓餅圖\n",
        "plt.show #show=顯示"
      ],
      "metadata": {
        "colab": {
          "base_uri": "https://localhost:8080/",
          "height": 266
        },
        "id": "orKPcJB1jIpz",
        "outputId": "b8c86de0-42d0-4a54-8b18-b604dec06931"
      },
      "execution_count": null,
      "outputs": [
        {
          "output_type": "execute_result",
          "data": {
            "text/plain": [
              "<function matplotlib.pyplot.show>"
            ]
          },
          "metadata": {},
          "execution_count": 4
        },
        {
          "output_type": "display_data",
          "data": {
            "text/plain": [
              "<Figure size 432x288 with 1 Axes>"
            ],
            "image/png": "[encoded data removed]"
          },
          "metadata": {}
        }
      ]
    },
    {
      "cell_type": "markdown",
      "source": [
        "## Chap1 運算式、變數與資料型別\n",
        "\n",
        "##註解"
      ],
      "metadata": {
        "id": "E9qUA46Spgp8"
      }
    },
    {
      "cell_type": "code",
      "execution_count": null,
      "metadata": {
        "id": "D4ADWA9QpB_J"
      },
      "outputs": [],
      "source": [
        "#單行註解\n",
        "a=5\n",
        "b=3\n",
        "print(a+b)"
      ]
    },
    {
      "cell_type": "code",
      "source": [
        "'''\n",
        "多行註解\n",
        "多行註解\n",
        "'''\n",
        "a=5\n",
        "b=3\n",
        "print(a+b)"
      ],
      "metadata": {
        "id": "CnPfYZ2TpUtU"
      },
      "execution_count": null,
      "outputs": []
    },
    {
      "cell_type": "code",
      "source": [
        "#變數交換,透過第3變數z\n",
        "x=1\n",
        "y=10\n",
        "\n",
        "z=x #z=1\n",
        "x=y #x=10\n",
        "y=z #y=z=1\n",
        "print(x)\n",
        "print(y)"
      ],
      "metadata": {
        "colab": {
          "base_uri": "https://localhost:8080/"
        },
        "id": "_nVSqTSOsaec",
        "outputId": "7a765cea-57ef-4aee-ff20-a547fb219c8b"
      },
      "execution_count": null,
      "outputs": [
        {
          "output_type": "stream",
          "name": "stdout",
          "text": [
            "10\n",
            "1\n"
          ]
        }
      ]
    },
    {
      "cell_type": "code",
      "source": [
        "#變數交換,不透過第3變數\n",
        "x=1\n",
        "y=10\n",
        "\n",
        "x=x+y # x=1+10=11 x=11\n",
        "y=x-y # y=11-10=1 y=1\n",
        "x=x-y # x=11-1=10 x=10\n",
        "print(x,y)"
      ],
      "metadata": {
        "colab": {
          "base_uri": "https://localhost:8080/"
        },
        "id": "RckaihbRtsp9",
        "outputId": "a287246c-05aa-4ff7-b3be-bcf48227a8cc"
      },
      "execution_count": null,
      "outputs": [
        {
          "output_type": "stream",
          "name": "stdout",
          "text": [
            "10 1\n"
          ]
        }
      ]
    },
    {
      "cell_type": "code",
      "source": [
        "#python版本的變數交換\n",
        "x=1\n",
        "y=10\n",
        "\n",
        "x,y=y,x\n",
        "print(x,y)\n"
      ],
      "metadata": {
        "colab": {
          "base_uri": "https://localhost:8080/"
        },
        "id": "v7YJ0RyEvC4E",
        "outputId": "21be4011-66ba-4b79-95db-b11cb6a796a5"
      },
      "execution_count": null,
      "outputs": [
        {
          "output_type": "stream",
          "name": "stdout",
          "text": [
            "10 1\n"
          ]
        }
      ]
    },
    {
      "cell_type": "code",
      "source": [
        "#變數的平行設定\n",
        "x,y,z=1,10,100\n",
        "print(x,y,z)"
      ],
      "metadata": {
        "colab": {
          "base_uri": "https://localhost:8080/"
        },
        "id": "gi31ov1evazT",
        "outputId": "4e1b45ae-8508-4cd2-fbee-7f1722345a65"
      },
      "execution_count": null,
      "outputs": [
        {
          "output_type": "stream",
          "name": "stdout",
          "text": [
            "1 10 100\n"
          ]
        }
      ]
    },
    {
      "cell_type": "code",
      "source": [
        "x,y,z=3,4,5\n",
        "x+=1 #x=x+1\n",
        "y*=2 #y=y*2\n",
        "z**=3 #z=z的3次方,\n",
        "print(x,y,z)"
      ],
      "metadata": {
        "colab": {
          "base_uri": "https://localhost:8080/"
        },
        "id": "U2i_Ml1AetT1",
        "outputId": "77a632bb-290b-49a4-a8bf-dff3ead40431"
      },
      "execution_count": null,
      "outputs": [
        {
          "output_type": "stream",
          "name": "stdout",
          "text": [
            "4 8 125\n"
          ]
        }
      ]
    },
    {
      "cell_type": "markdown",
      "source": [
        "## 變數的應用\n",
        "Q:半徑為10圓形,其面積大小為何?"
      ],
      "metadata": {
        "id": "V9oqfpaaij_l"
      }
    },
    {
      "cell_type": "code",
      "source": [
        "#圓形\n",
        "import math\n",
        "r=10\n",
        "print(r*r*math.pi)\n"
      ],
      "metadata": {
        "colab": {
          "base_uri": "https://localhost:8080/"
        },
        "id": "c3-m1QHeiIV8",
        "outputId": "b5ba4bfd-3c99-4f33-a38a-e0c8912e6506"
      },
      "execution_count": null,
      "outputs": [
        {
          "output_type": "stream",
          "name": "stdout",
          "text": [
            "314.1592653589793\n"
          ]
        }
      ]
    },
    {
      "cell_type": "code",
      "source": [
        "#圓形(自行輸入半徑=r\n",
        "import math\n",
        "r=eval(input(\"請輸入圓的半徑:\")) #eval()將字串轉化成數值運算\n",
        "print(r*r*math.pi)\n",
        "\n"
      ],
      "metadata": {
        "id": "62kh6mQCkX_C"
      },
      "execution_count": null,
      "outputs": []
    },
    {
      "cell_type": "code",
      "source": [
        "#長方形 (自行輸入\n",
        "import math\n",
        "a=eval(input(\"請輸入寬:\"))\n",
        "b=eval(input(\"請輸入長:\"))\n",
        "print(\"長方形面積為:\"),print(a*b)"
      ],
      "metadata": {
        "colab": {
          "base_uri": "https://localhost:8080/"
        },
        "id": "4zWFhY_UmHVY",
        "outputId": "87eb4d0f-500e-443e-9b9b-b5a8d47297b2"
      },
      "execution_count": null,
      "outputs": [
        {
          "output_type": "stream",
          "name": "stdout",
          "text": [
            "請輸入寬:5\n",
            "請輸入長:5\n",
            "長方形面積為\n",
            "25\n"
          ]
        }
      ]
    },
    {
      "cell_type": "markdown",
      "source": [
        "## 資料型別\n",
        "python屬於動態類型變數,使用前不需要宣告資料型態"
      ],
      "metadata": {
        "id": "Rru_RayOqvlG"
      }
    },
    {
      "cell_type": "code",
      "source": [
        "x=254\n",
        "y=254.0\n",
        "z=\"Hi\"\n",
        "print(type(x))  #int整數值\n",
        "print(type(y))  #float小數值\n",
        "print(type(z))  #str字串\n",
        "print(type(x==y)) #bool布林值,兩個等於=是否相同"
      ],
      "metadata": {
        "colab": {
          "base_uri": "https://localhost:8080/"
        },
        "id": "gf3XOm4TquH3",
        "outputId": "a2173d39-71d7-4737-86bf-a6514d4fe03b"
      },
      "execution_count": null,
      "outputs": [
        {
          "output_type": "stream",
          "name": "stdout",
          "text": [
            "<class 'int'>\n",
            "<class 'float'>\n",
            "<class 'str'>\n",
            "<class 'bool'>\n"
          ]
        }
      ]
    },
    {
      "cell_type": "markdown",
      "source": [
        "## 算術符號\n",
        "- 算術符號的順序\n",
        "- ()括號> **次方> */乘除> +-加減"
      ],
      "metadata": {
        "id": "FhEAjVa7uw1E"
      }
    },
    {
      "cell_type": "code",
      "source": [
        "x=10\n",
        "y=3\n",
        "print(x/y) #除法\n",
        "print(x//y) #取商數\n",
        "print(x%y) #取餘數"
      ],
      "metadata": {
        "colab": {
          "base_uri": "https://localhost:8080/"
        },
        "id": "k6x6zbFBs7hd",
        "outputId": "4906a058-6a8e-42b0-a2d7-456734fdbc88"
      },
      "execution_count": null,
      "outputs": [
        {
          "output_type": "stream",
          "name": "stdout",
          "text": [
            "3.3333333333333335\n",
            "3\n",
            "1\n"
          ]
        }
      ]
    },
    {
      "cell_type": "code",
      "source": [
        "x=(5*(1+2)**2-3+4/2)\n",
        "print(x)"
      ],
      "metadata": {
        "colab": {
          "base_uri": "https://localhost:8080/"
        },
        "id": "MVAfaxmJutF-",
        "outputId": "f787a2df-fe9b-4cb2-92ad-1cde8d133c2e"
      },
      "execution_count": null,
      "outputs": [
        {
          "output_type": "stream",
          "name": "stdout",
          "text": [
            "44.0\n"
          ]
        }
      ]
    },
    {
      "cell_type": "markdown",
      "source": [
        "## 型別轉換"
      ],
      "metadata": {
        "id": "AS4RRwgHnpHb"
      }
    },
    {
      "cell_type": "code",
      "source": [
        "x=\"must \"\n",
        "print(type(x))\n",
        "y=20 \n",
        "print(type(y))\n",
        "print(10*y)\n",
        "print(10*x)\n",
        "z=\"10 \"\n",
        "print(10*z)\n",
        "print(10*int(z)) #int整數值\n",
        "print(10*float(z)) #float小數值\n",
        "print(10*str(y)) #str字串\n",
        "print(10*eval(\"5*2\")) #eval()將字串轉化成數值運算"
      ],
      "metadata": {
        "id": "HKSuFQAvmnB7",
        "colab": {
          "base_uri": "https://localhost:8080/"
        },
        "outputId": "e24e9945-b62f-4475-c75d-4fcc2f845928"
      },
      "execution_count": null,
      "outputs": [
        {
          "output_type": "stream",
          "name": "stdout",
          "text": [
            "<class 'str'>\n",
            "<class 'int'>\n",
            "200\n",
            "must must must must must must must must must must \n",
            "10 10 10 10 10 10 10 10 10 10 \n",
            "100\n",
            "100.0\n",
            "20202020202020202020\n",
            "100\n"
          ]
        }
      ]
    },
    {
      "cell_type": "markdown",
      "source": [
        "## print的三種方式\n",
        " 透過[,]區隔要列印的變數 ex:print(\"This\",\"is\",\"a\",\"book\")\n",
        " 利用字串的str.format()(新式)\n",
        " %格式化輸出字符串(舊式)"
      ],
      "metadata": {
        "id": "jYbKXIIjzF2K"
      }
    },
    {
      "cell_type": "code",
      "source": [
        "a=\"This\"+\"is\"+\"a\"+\"book\"\n",
        "print(a)\n",
        "#答:Thisisabook\n",
        "print(\"This\",\"is\",\"a\",\"book\") \n",
        "#答:This is a book"
      ],
      "metadata": {
        "colab": {
          "base_uri": "https://localhost:8080/"
        },
        "id": "kP0WdaLurq6A",
        "outputId": "cdfb0e95-5bd9-4a21-a689-9827429afba5"
      },
      "execution_count": null,
      "outputs": [
        {
          "output_type": "stream",
          "name": "stdout",
          "text": [
            "Thisisabook\n",
            "This is a book\n"
          ]
        }
      ]
    },
    {
      "cell_type": "markdown",
      "source": [
        "## Chap2\n",
        "### if,elif,else\n",
        "- 假設的程式一定要有[冒號]和[print()要縮排]\n",
        "\n",
        "- 沒縮排會另外執行,有縮排的話就是該冒號下會執行的程式\n",
        "\n",
        "- elif=之前學的else if,在這用elif\n"
      ],
      "metadata": {
        "id": "HLQdKvdhtKNy"
      }
    },
    {
      "cell_type": "code",
      "source": [
        "a=3\n",
        "b=4\n",
        "if a <= b:\n",
        "    print(\"b是比較大的數字\")\n",
        "else:\n",
        "    print(\"a是比較大的數字\")"
      ],
      "metadata": {
        "colab": {
          "base_uri": "https://localhost:8080/"
        },
        "id": "OZ2HgnI-liTN",
        "outputId": "9fbbad4e-891c-4d86-ea4a-23b0cc4870af"
      },
      "execution_count": null,
      "outputs": [
        {
          "output_type": "stream",
          "name": "stdout",
          "text": [
            "b是比較大的數字\n"
          ]
        }
      ]
    },
    {
      "cell_type": "code",
      "source": [
        "a=3\n",
        "b=4\n",
        "if a > b:  #冒號一定要加\n",
        "   print(\"a>b\") #一定要縮排\n",
        "else:\n",
        "   print(\"a<b\")"
      ],
      "metadata": {
        "colab": {
          "base_uri": "https://localhost:8080/"
        },
        "id": "NbPqUwt6sXFi",
        "outputId": "4003aad2-50b3-4425-b6db-900915d1bcd7"
      },
      "execution_count": null,
      "outputs": [
        {
          "output_type": "stream",
          "name": "stdout",
          "text": [
            "a<b\n"
          ]
        }
      ]
    },
    {
      "cell_type": "code",
      "source": [
        "a=4\n",
        "b=4\n",
        "if a > b:\n",
        "   print(\"a>b\")\n",
        "elif a==b:\n",
        "  print(\"a==b\")\n",
        "else:\n",
        "   print(\"a<b\")"
      ],
      "metadata": {
        "id": "6rELqxnNtphc",
        "colab": {
          "base_uri": "https://localhost:8080/"
        },
        "outputId": "1e20e986-8294-40fc-eb0f-8959c4ff1726"
      },
      "execution_count": null,
      "outputs": [
        {
          "output_type": "stream",
          "name": "stdout",
          "text": [
            "a==b\n"
          ]
        }
      ]
    },
    {
      "cell_type": "code",
      "source": [
        "grade=87\n",
        "print(\"成績評鑑:\")\n",
        "if grade >=90:\n",
        "  print(\"優等\")\n",
        "elif grade >80:\n",
        "  print(\"甲等\")\n",
        "elif grade >70:\n",
        "  print(\"乙等\")\n",
        "elif grade >60:\n",
        "  print(\"丙等\")\n",
        "else:\n",
        "  print(\"不及格\")"
      ],
      "metadata": {
        "colab": {
          "base_uri": "https://localhost:8080/"
        },
        "id": "u2L0dcC-zXHS",
        "outputId": "5b66de52-97cb-4be3-f667-3d1a4d1108bb"
      },
      "execution_count": null,
      "outputs": [
        {
          "output_type": "stream",
          "name": "stdout",
          "text": [
            "成績評鑑:\n",
            "甲等\n"
          ]
        }
      ]
    },
    {
      "cell_type": "markdown",
      "source": [
        "## for迴圈"
      ],
      "metadata": {
        "id": "ei98uqYU2fD5"
      }
    },
    {
      "cell_type": "code",
      "source": [
        "for a in range(10): #方法一  #range從0開始算10個數字\n",
        "  print(a)\n",
        "\n",
        "#for i in range(0,10,1): #方法二\n",
        "  #print(i)"
      ],
      "metadata": {
        "colab": {
          "base_uri": "https://localhost:8080/"
        },
        "id": "w9UpQbR92fbZ",
        "outputId": "11e98c5b-a40b-44fe-e7f7-24aae1e571d7"
      },
      "execution_count": null,
      "outputs": [
        {
          "output_type": "stream",
          "name": "stdout",
          "text": [
            "0\n",
            "1\n",
            "2\n",
            "3\n",
            "4\n",
            "5\n",
            "6\n",
            "7\n",
            "8\n",
            "9\n"
          ]
        }
      ]
    },
    {
      "cell_type": "code",
      "source": [
        "for b in \"Hey! yo\": #一個字等於一個字串\n",
        "  print(b) #b=H b=e b=y b=! b=一格空白建 b=y b=o\n",
        "\n",
        "for d in [\"Java\",\"python\",\"C#\"]: #一個詞等於一個字串\n",
        "  print(d) #d=Java d=python d=C#"
      ],
      "metadata": {
        "colab": {
          "base_uri": "https://localhost:8080/"
        },
        "id": "bkTfa6c143QY",
        "outputId": "7a8f3a01-524c-46f7-fb15-e862f32064ee"
      },
      "execution_count": null,
      "outputs": [
        {
          "output_type": "stream",
          "name": "stdout",
          "text": [
            "H\n",
            "e\n",
            "y\n",
            "!\n",
            " \n",
            "y\n",
            "o\n",
            "Java\n",
            "python\n",
            "C#\n"
          ]
        }
      ]
    },
    {
      "cell_type": "code",
      "source": [
        "#雞兔同籠,若共有35個頭,94隻腳,請問有幾隻雞?幾隻兔?\n",
        "for chicken in range(0,36):\n",
        "  rabbit=35-chicken\n",
        "  if (2*chicken+4*rabbit)==94:\n",
        "    print(\"雞有\",chicken,\"隻\",\"兔子有\",rabbit,\"隻\")\n",
        "    break\n",
        "\n",
        "else:\n",
        "  print(\"無解\")"
      ],
      "metadata": {
        "colab": {
          "base_uri": "https://localhost:8080/"
        },
        "id": "o2SpnaLc8zrC",
        "outputId": "4c87f419-bf1f-41b3-d9eb-9432447961c4"
      },
      "execution_count": null,
      "outputs": [
        {
          "output_type": "stream",
          "name": "stdout",
          "text": [
            "雞有 23 隻 兔子有 12 隻\n"
          ]
        }
      ]
    },
    {
      "cell_type": "code",
      "source": [
        "sum=0\n",
        "for e in range(11): #range等於0~10 #也能寫成range(1,11,1)\n",
        "  sum+=e\n",
        "print(\"1+2+3+...+10 =\", sum)\n",
        "print(sum)"
      ],
      "metadata": {
        "colab": {
          "base_uri": "https://localhost:8080/"
        },
        "id": "xfo2GcXQ7R25",
        "outputId": "5cacbe0f-3a0a-463e-dfb6-949b1190e22f"
      },
      "execution_count": null,
      "outputs": [
        {
          "output_type": "stream",
          "name": "stdout",
          "text": [
            "1+2+3+...+10 = 55\n",
            "55\n"
          ]
        }
      ]
    },
    {
      "cell_type": "markdown",
      "source": [
        "## while迴圈"
      ],
      "metadata": {
        "id": "T2roug0E9x1v"
      }
    },
    {
      "cell_type": "code",
      "source": [
        "i=1\n",
        "sum=0\n",
        "while i < 11: #i=0~10\n",
        "  sum=sum+i #從0開始+1\n",
        "  i+=1\n",
        "print(sum)"
      ],
      "metadata": {
        "colab": {
          "base_uri": "https://localhost:8080/"
        },
        "id": "LeToGVHs9802",
        "outputId": "26a8f9f1-0fad-44dd-e29e-a9a82c685c98"
      },
      "execution_count": null,
      "outputs": [
        {
          "output_type": "stream",
          "name": "stdout",
          "text": [
            "55\n"
          ]
        }
      ]
    },
    {
      "cell_type": "markdown",
      "source": [
        "## 帳號密碼判斷"
      ],
      "metadata": {
        "id": "uDRpt1ffTOS9"
      }
    },
    {
      "cell_type": "code",
      "source": [
        "id=\"betty\"\n",
        "pwd=\"0000\"\n",
        "while True:\n",
        "  x=input(\"請輸入帳號:\")\n",
        "  y=input(\"請輸入密碼:\")\n",
        "  if (x==id and y==pwd):\n",
        "    print(\"歡迎登入!\")\n",
        "    break  #break=結束迴圈\n",
        "  else:\n",
        "    print(\"帳號/密碼輸入錯誤\")"
      ],
      "metadata": {
        "colab": {
          "base_uri": "https://localhost:8080/"
        },
        "id": "JF92oYdnTRoN",
        "outputId": "f672faf5-faec-4e33-e1eb-2e21b2cfd368"
      },
      "execution_count": null,
      "outputs": [
        {
          "output_type": "stream",
          "name": "stdout",
          "text": [
            "請輸入帳號:betty\n",
            "請輸入密碼:1234\n",
            "帳號/密碼輸入錯誤\n",
            "請輸入帳號:abc\n",
            "請輸入密碼:0000\n",
            "帳號/密碼輸入錯誤\n",
            "請輸入帳號:betty\n",
            "請輸入密碼:0000\n",
            "歡迎登入!\n"
          ]
        }
      ]
    },
    {
      "cell_type": "markdown",
      "source": [
        "## 變數"
      ],
      "metadata": {
        "id": "qm9dIvrrTL0m"
      }
    },
    {
      "cell_type": "code",
      "source": [
        "import random    #random=變數\n",
        "for i in range(10):  #range(10):0~9\n",
        "  print(random.randint(1,9))"
      ],
      "metadata": {
        "colab": {
          "base_uri": "https://localhost:8080/"
        },
        "id": "oN4p2f8-UCo8",
        "outputId": "53bafc8e-d611-41fd-886b-f8b60f9c779a"
      },
      "execution_count": null,
      "outputs": [
        {
          "output_type": "stream",
          "name": "stdout",
          "text": [
            "7\n",
            "7\n",
            "6\n",
            "9\n",
            "4\n",
            "7\n",
            "9\n",
            "4\n",
            "8\n",
            "6\n"
          ]
        }
      ]
    },
    {
      "cell_type": "code",
      "source": [
        "import random    #random=變數\n",
        "number=random.randint(1,15)\n",
        "while True:\n",
        "  guess=int(input(\"請猜一個1-15的數字:\"))\n",
        "  if (guess==number):\n",
        "    print(\"猜對了!\")\n",
        "    break  #break=結束迴圈\n",
        "  else:\n",
        "    print(\"猜錯了\")\n"
      ],
      "metadata": {
        "colab": {
          "base_uri": "https://localhost:8080/"
        },
        "id": "DsBbukIxUGoF",
        "outputId": "89fcf14b-9960-417c-8942-bef97fe621e4"
      },
      "execution_count": null,
      "outputs": [
        {
          "output_type": "stream",
          "name": "stdout",
          "text": [
            "請猜一個1-15的數字:1\n",
            "猜錯了\n",
            "請猜一個1-15的數字:2\n",
            "猜錯了\n",
            "請猜一個1-15的數字:3\n",
            "猜錯了\n",
            "請猜一個1-15的數字:4\n",
            "猜對了!\n"
          ]
        }
      ]
    },
    {
      "cell_type": "markdown",
      "source": [
        "## ITS 模擬考題"
      ],
      "metadata": {
        "id": "3e74fFD2Ukhl"
      }
    },
    {
      "cell_type": "code",
      "source": [
        "#隨機產生浮點數(小於0,大於-1\n",
        "import random\n",
        "print(random.random())\n"
      ],
      "metadata": {
        "id": "tvykjYxzUlwU"
      },
      "execution_count": null,
      "outputs": []
    },
    {
      "cell_type": "code",
      "source": [
        "a=[1,2,3]\n",
        "print(a*2)"
      ],
      "metadata": {
        "colab": {
          "base_uri": "https://localhost:8080/"
        },
        "id": "vGQR5offWDsh",
        "outputId": "fb73d887-43ba-4412-a645-8a7c49a4a8e4"
      },
      "execution_count": null,
      "outputs": [
        {
          "output_type": "stream",
          "name": "stdout",
          "text": [
            "[1, 2, 3, 1, 2, 3]\n"
          ]
        }
      ]
    },
    {
      "cell_type": "markdown",
      "source": [
        "# Chap3"
      ],
      "metadata": {
        "id": "R4Uc3gVgWVjh"
      }
    },
    {
      "cell_type": "markdown",
      "source": [
        "## Python物件\n",
        "### List[串列] Tuple(元組) Dictionary{字典} Sets{集合}"
      ],
      "metadata": {
        "id": "59WBfTO9Unir"
      }
    },
    {
      "cell_type": "code",
      "source": [
        "#List[串列] #score成績\n",
        "score=[90,70,80,88,95]\n",
        "print(score[0]) #索引從0開始\n",
        "print(score[3])\n",
        "print(score[4])\n",
        "print(score[-1])  #倒數第一個"
      ],
      "metadata": {
        "colab": {
          "base_uri": "https://localhost:8080/"
        },
        "id": "THOrEhmfUvRm",
        "outputId": "38851c23-4877-4a66-d5e8-e7616c9b3ef2"
      },
      "execution_count": null,
      "outputs": [
        {
          "output_type": "stream",
          "name": "stdout",
          "text": [
            "90\n",
            "88\n",
            "95\n",
            "95\n"
          ]
        }
      ]
    },
    {
      "cell_type": "code",
      "source": [
        "score=[90,70,80,88,95]\n",
        "print(score[0:3]) #0-3\n",
        "print(score[1:4]) #1-3\n",
        "print(score[:3]) #0-3\n",
        "print(score[3:]) #3-4\n",
        "print(score[:]) #取全部0-5"
      ],
      "metadata": {
        "colab": {
          "base_uri": "https://localhost:8080/"
        },
        "id": "yiagHH7aVLF1",
        "outputId": "7f4a9357-99bf-4d61-d99c-872f7cc012e5"
      },
      "execution_count": null,
      "outputs": [
        {
          "output_type": "stream",
          "name": "stdout",
          "text": [
            "[90, 70, 80]\n",
            "[70, 80, 88]\n",
            "[90, 70, 80]\n",
            "[88, 95]\n",
            "[90, 70, 80, 88, 95]\n"
          ]
        }
      ]
    },
    {
      "cell_type": "code",
      "source": [
        "score=[90,70,80,88,95]\n",
        "print(score[0:5:2]) #0-4,跳一格\n",
        "print(score[::2]) #\n",
        "print(score[4:0:-1]) #倒著從4-1\n",
        "print(score[0:4:-1]) #空集合"
      ],
      "metadata": {
        "colab": {
          "base_uri": "https://localhost:8080/"
        },
        "id": "EPvikctoVSLH",
        "outputId": "056a9ac1-a8cc-4b6f-a3c7-3589e144d7f5"
      },
      "execution_count": null,
      "outputs": [
        {
          "output_type": "stream",
          "name": "stdout",
          "text": [
            "[90, 80, 95]\n",
            "[90, 80, 95]\n",
            "[95, 88, 80, 70]\n",
            "[]\n"
          ]
        }
      ]
    },
    {
      "cell_type": "code",
      "source": [
        "A=\"ABCDEFGHIJKLMNOPQRSTUVWXYZ\"\n",
        "print(A[0])    #第一個\n",
        "print(A[-1])    #倒數第一個\n",
        "print(A[5:20])   #5-19\n",
        "print(A[5:20:3]) #5-19,跳兩格"
      ],
      "metadata": {
        "colab": {
          "base_uri": "https://localhost:8080/"
        },
        "id": "xl9sNBjQVVp8",
        "outputId": "ea1d377d-cde5-4090-d618-7f83e81968a9"
      },
      "execution_count": null,
      "outputs": [
        {
          "output_type": "stream",
          "name": "stdout",
          "text": [
            "A\n",
            "Z\n",
            "FGHIJKLMNOPQRST\n",
            "FILOR\n"
          ]
        }
      ]
    },
    {
      "cell_type": "code",
      "source": [
        "my_list0=[]\n",
        "print(my_list0)\n",
        "my_list1=list()\n",
        "print(my_list1)\n",
        "my_list2=[\"python\",\"javascript\",\"c#\"]\n",
        "print(my_list2)\n",
        "print(my_list2[0])"
      ],
      "metadata": {
        "colab": {
          "base_uri": "https://localhost:8080/"
        },
        "id": "D0de-9WnVcmN",
        "outputId": "e54e946f-c39a-4dc7-a3a0-6c5845ab9612"
      },
      "execution_count": null,
      "outputs": [
        {
          "output_type": "stream",
          "name": "stdout",
          "text": [
            "[]\n",
            "[]\n",
            "['python', 'javascript', 'c#']\n",
            "python\n"
          ]
        }
      ]
    },
    {
      "cell_type": "code",
      "source": [
        "my_list2=[\"python\",\"javascript\",\"c#\"]\n",
        "print(len(my_list2))\n",
        "my_list2.append(\"java\")   #append附加在最後\n",
        "print(my_list2)\n",
        "my_list2.remove(\"java\")   #remove刪除\n",
        "print(my_list2)\n",
        "my_list2.insert(1,\"java\")  #insert插入到某個位置\n",
        "print(my_list2)"
      ],
      "metadata": {
        "colab": {
          "base_uri": "https://localhost:8080/"
        },
        "id": "pVOPpFiaVfez",
        "outputId": "37c619cc-a6bf-4f8a-8d2f-5403ba0dac4d"
      },
      "execution_count": null,
      "outputs": [
        {
          "output_type": "stream",
          "name": "stdout",
          "text": [
            "3\n",
            "['python', 'javascript', 'c#', 'java']\n",
            "['python', 'javascript', 'c#']\n",
            "['python', 'java', 'javascript', 'c#']\n"
          ]
        }
      ]
    },
    {
      "cell_type": "markdown",
      "source": [
        "# Chap4"
      ],
      "metadata": {
        "id": "rMwBZeHJw9t7"
      }
    },
    {
      "cell_type": "markdown",
      "source": [
        "##numpy套件(numeric python)\n",
        "## 為什麼需要numpy?\n",
        "* numpy由c撰寫，速度快python 10~1000倍以上\n",
        "* numpy儲存結果較正確，python數字儲存不正確\n",
        "* numpy節省記憶體儲存空間\n",
        "* numpy的向量(矩陣計算)速度快\n",
        "* numpy的取值方便"
      ],
      "metadata": {
        "id": "GvM7xbIAw1XU"
      }
    },
    {
      "cell_type": "code",
      "source": [
        "a_list=[1,2,3,4,5]\n",
        "print(a_list*3)"
      ],
      "metadata": {
        "colab": {
          "base_uri": "https://localhost:8080/"
        },
        "id": "mygOcVa0xOqr",
        "outputId": "fdd9af20-d921-41df-dc9b-16bff2c5e6a1"
      },
      "execution_count": null,
      "outputs": [
        {
          "output_type": "stream",
          "name": "stdout",
          "text": [
            "[1, 2, 3, 4, 5, 1, 2, 3, 4, 5, 1, 2, 3, 4, 5]\n"
          ]
        }
      ]
    },
    {
      "cell_type": "code",
      "source": [
        "#numpy套件的ndarray型態,提供element-wise的操作\n",
        "import numpy as np\n",
        "a=np.array([1,2,3,4,5])\n",
        "print(a*3)"
      ],
      "metadata": {
        "colab": {
          "base_uri": "https://localhost:8080/"
        },
        "id": "rz38Gef2xSaE",
        "outputId": "755fa429-0d77-4bfe-de07-bf05d2adbe64"
      },
      "execution_count": null,
      "outputs": [
        {
          "output_type": "stream",
          "name": "stdout",
          "text": [
            "[ 3  6  9 12 15]\n"
          ]
        }
      ]
    },
    {
      "cell_type": "code",
      "source": [
        "a=np.array([1,2,3,4,5])\n",
        "print(type(a))\n",
        "print(a.shape) #ndaary的形狀\n",
        "print(a.dtype) #資料的型態\n",
        "print(a.ndim) #維度"
      ],
      "metadata": {
        "colab": {
          "base_uri": "https://localhost:8080/"
        },
        "id": "y29NSP51xUcN",
        "outputId": "c98e819f-2c91-4933-bcc9-5b499a8c1842"
      },
      "execution_count": null,
      "outputs": [
        {
          "output_type": "stream",
          "name": "stdout",
          "text": [
            "<class 'numpy.ndarray'>\n",
            "(5,)\n",
            "int64\n",
            "1\n"
          ]
        }
      ]
    },
    {
      "cell_type": "markdown",
      "source": [
        "### 字典(dictionary-dict)為帶有鍵值(key)的串列(list)"
      ],
      "metadata": {
        "id": "FblkXyFdxm-D"
      }
    },
    {
      "cell_type": "code",
      "source": [
        "a_dict={0:'go',1:',c#',2:',vb'}\n",
        "print(a_dict)\n",
        "print(a_dict[0])\n"
      ],
      "metadata": {
        "colab": {
          "base_uri": "https://localhost:8080/"
        },
        "id": "F_e-3IvRymUH",
        "outputId": "1d843c7f-7fe5-4afa-c785-8d216b8dba34"
      },
      "execution_count": null,
      "outputs": [
        {
          "output_type": "stream",
          "name": "stdout",
          "text": [
            "{0: 'go', 1: ',c#', 2: ',vb'}\n",
            "go\n"
          ]
        }
      ]
    },
    {
      "cell_type": "code",
      "source": [
        "my_2d_array=np.array([np.arange(0,5),np.arange(5,10)])\n",
        "print(my_2d_array)\n",
        "print(my_2d_array[1,:])\n",
        "print(my_2d_array[:,1])\n",
        "print(my_2d_array[1,1])"
      ],
      "metadata": {
        "colab": {
          "base_uri": "https://localhost:8080/"
        },
        "id": "W2k84e1Axnum",
        "outputId": "f2b5b156-245a-4ac0-88b5-d78d389d7695"
      },
      "execution_count": null,
      "outputs": [
        {
          "output_type": "stream",
          "name": "stdout",
          "text": [
            "[[0 1 2 3 4]\n",
            " [5 6 7 8 9]]\n",
            "[5 6 7 8 9]\n",
            "[1 6]\n",
            "6\n"
          ]
        }
      ]
    },
    {
      "cell_type": "code",
      "source": [
        "b=np.array([56, 8, 19, 14, np.nan])\n",
        "print(b)"
      ],
      "metadata": {
        "colab": {
          "base_uri": "https://localhost:8080/"
        },
        "id": "5SQdtofZxsgT",
        "outputId": "3b9125f5-12cf-45f7-fea3-46594f773c28"
      },
      "execution_count": null,
      "outputs": [
        {
          "output_type": "stream",
          "name": "stdout",
          "text": [
            "[56.  8. 19. 14. nan]\n"
          ]
        }
      ]
    },
    {
      "cell_type": "markdown",
      "source": [
        "# Chap5"
      ],
      "metadata": {
        "id": "LeiYMTsQX5N4"
      }
    },
    {
      "cell_type": "markdown",
      "source": [
        "## 函式\n",
        "- 獨立的一組程式碼,可以重複使用\n",
        "- 通常可以有0-多個輸入參數,0-1個輸出\n",
        "- 函式輸入參數可以有預設值"
      ],
      "metadata": {
        "id": "2qf-fhB8VhLe"
      }
    },
    {
      "cell_type": "code",
      "source": [
        "#傳統的程式寫法\n",
        "import math\n",
        "radius = eval(input(\"請輸入圓的半徑：\")) #把輸入的字串變成數學計算型態\n",
        "print(\"圓的面積為：\", radius * radius * math.pi)"
      ],
      "metadata": {
        "colab": {
          "base_uri": "https://localhost:8080/"
        },
        "id": "9zKmblPJVkg3",
        "outputId": "1892ded7-f799-4378-e3a5-855d69e3bd30"
      },
      "execution_count": null,
      "outputs": [
        {
          "output_type": "stream",
          "name": "stdout",
          "text": [
            "請輸入圓的半徑：5\n",
            "圓的面積為： 78.53981633974483\n"
          ]
        }
      ]
    },
    {
      "cell_type": "code",
      "source": [
        "import math\n",
        "def circle_area(radius):\n",
        "    area = radius * radius * math.pi\n",
        "    return area\n",
        "\n",
        "print(circle_area(10))\n",
        "print(circle_area(5))"
      ],
      "metadata": {
        "colab": {
          "base_uri": "https://localhost:8080/"
        },
        "id": "61WzuRN2Vp7-",
        "outputId": "aa56a02b-289b-49f7-9839-da97615eba83"
      },
      "execution_count": null,
      "outputs": [
        {
          "output_type": "stream",
          "name": "stdout",
          "text": [
            "314.1592653589793\n",
            "78.53981633974483\n"
          ]
        }
      ]
    },
    {
      "cell_type": "markdown",
      "source": [
        "# Chap6\n",
        "os套件：用來處理文件與目錄，與檔案相關操作"
      ],
      "metadata": {
        "id": "R6yJzZITtMrs"
      }
    },
    {
      "cell_type": "code",
      "source": [
        "import os\n",
        "print(os.getcwd()) #顯示目前所在的工作目錄"
      ],
      "metadata": {
        "colab": {
          "base_uri": "https://localhost:8080/"
        },
        "id": "_96FRJfFtSFD",
        "outputId": "b31e71b9-dbb2-417a-fdc0-a67595140ed6"
      },
      "execution_count": null,
      "outputs": [
        {
          "output_type": "stream",
          "name": "stdout",
          "text": [
            "/content\n"
          ]
        }
      ]
    },
    {
      "cell_type": "code",
      "source": [
        "os.listdir(\".\") #顯示目錄下所有的檔案"
      ],
      "metadata": {
        "colab": {
          "base_uri": "https://localhost:8080/"
        },
        "id": "A_PKG5KttVuE",
        "outputId": "968ee8c0-2cec-48c7-c073-8d1ea2aebd26"
      },
      "execution_count": null,
      "outputs": [
        {
          "output_type": "execute_result",
          "data": {
            "text/plain": [
              "['.config', 'sample_data']"
            ]
          },
          "metadata": {},
          "execution_count": 2
        }
      ]
    },
    {
      "cell_type": "code",
      "source": [
        "os.makedirs(\"test\") #新增test目錄\n",
        "os.listdir(\".\")"
      ],
      "metadata": {
        "colab": {
          "base_uri": "https://localhost:8080/"
        },
        "id": "xmdgD-ggtYZr",
        "outputId": "2e77299e-159a-4420-81b8-10e267bd6764"
      },
      "execution_count": null,
      "outputs": [
        {
          "output_type": "execute_result",
          "data": {
            "text/plain": [
              "['.config', 'test', 'sample_data']"
            ]
          },
          "metadata": {},
          "execution_count": 3
        }
      ]
    },
    {
      "cell_type": "code",
      "source": [
        "os.rmdir(\"test\") #移除test目錄\n",
        "os.listdir(\".\")"
      ],
      "metadata": {
        "colab": {
          "base_uri": "https://localhost:8080/"
        },
        "id": "ZghKZ-OptcEC",
        "outputId": "4bac2c7b-ad6e-4563-f2b7-90b3c643e878"
      },
      "execution_count": null,
      "outputs": [
        {
          "output_type": "execute_result",
          "data": {
            "text/plain": [
              "['.config', 'sample_data']"
            ]
          },
          "metadata": {},
          "execution_count": 4
        }
      ]
    },
    {
      "cell_type": "markdown",
      "source": [
        "## 檔案處理\n",
        "* os套件有自己的檔案處理命令，而比較常用的是python內建的open\n",
        "* w = 可寫(預設建立檔案) 若檔案存在則會清除舊檔案\n",
        "* w+ = 可寫可讀(預設建立檔案) 若檔案存在則會清除舊檔案\n",
        "* r = 可讀\n",
        "* r+ = 可寫可讀 但寫入資料指向開頭\n",
        "* a = 可寫不能讀 寫入資料指向尾端\n",
        "* a+ = 可寫可讀 寫入資料指向尾端\n",
        "* b = 轉為2進位文件\n",
        "* ab+ = 2進位文件的讀寫 寫入資料指向尾端"
      ],
      "metadata": {
        "id": "Tu9Nzou-tuH0"
      }
    },
    {
      "cell_type": "code",
      "source": [
        "a=open(\"a.txt\",\"w\") #新增檔案\n",
        "a.write(\"This is a test1\")\n",
        "a.write(\"This is a test2\\n\") # \\n換行\n",
        "a.write(\"This is a test3\\n\")\n",
        "a.close() #關閉檔案"
      ],
      "metadata": {
        "id": "XKSHGaVwt0b7"
      },
      "execution_count": null,
      "outputs": []
    },
    {
      "cell_type": "code",
      "source": [
        "os.path.isfile(\"a.txt\") #檔案是否存在"
      ],
      "metadata": {
        "colab": {
          "base_uri": "https://localhost:8080/"
        },
        "id": "jY_k2P_-t4Iq",
        "outputId": "4086f783-3196-4326-d092-62f4ad7331b5"
      },
      "execution_count": null,
      "outputs": [
        {
          "output_type": "execute_result",
          "data": {
            "text/plain": [
              "True"
            ]
          },
          "metadata": {},
          "execution_count": 7
        }
      ]
    },
    {
      "cell_type": "code",
      "source": [
        "a=open(\"a.txt\",\"r\") \n",
        "print(a.readlines()) #一次讀取多行，與a.read()命令相同\n",
        "a.close()"
      ],
      "metadata": {
        "colab": {
          "base_uri": "https://localhost:8080/"
        },
        "id": "ruEi6dVZt8yi",
        "outputId": "9b0a05b7-e250-429c-92be-c975ad4ee27a"
      },
      "execution_count": null,
      "outputs": [
        {
          "output_type": "stream",
          "name": "stdout",
          "text": [
            "['This is a test1This is a test2\\n', 'This is a test3\\n']\n"
          ]
        }
      ]
    },
    {
      "cell_type": "code",
      "source": [
        "#加上檔案是否存在的判斷\n",
        "if os.path.isfile(\"a.txt\"):\n",
        "  a=open(\"a.txt\",\"r\")\n",
        "  print(a.readlines())\n",
        "  a.close() \n",
        "else:\n",
        "  print(\"檔案不存在\")"
      ],
      "metadata": {
        "colab": {
          "base_uri": "https://localhost:8080/"
        },
        "id": "Eab2PrqUt-3L",
        "outputId": "3bca6a51-c766-4698-a0bf-bc49123ba92b"
      },
      "execution_count": null,
      "outputs": [
        {
          "output_type": "stream",
          "name": "stdout",
          "text": [
            "['This is a test1This is a test2\\n', 'This is a test3\\n']\n"
          ]
        }
      ]
    },
    {
      "cell_type": "markdown",
      "source": [
        "## 附加檔案"
      ],
      "metadata": {
        "id": "zbC_Fc3NuC7L"
      }
    },
    {
      "cell_type": "code",
      "source": [
        "a=open(\"a.txt\", \"a\") #參數a會把寫入的資訊附加在檔案尾巴\n",
        "a.write(\"This is test4\\n\")\n",
        "a.close()"
      ],
      "metadata": {
        "id": "9BFyOoUhuKNk"
      },
      "execution_count": null,
      "outputs": []
    },
    {
      "cell_type": "code",
      "source": [
        "a=open(\"a.txt\",\"r\")\n",
        "print(a.readlines())\n",
        "a.close()"
      ],
      "metadata": {
        "colab": {
          "base_uri": "https://localhost:8080/"
        },
        "id": "SFG8rFuQuNoO",
        "outputId": "df5750b6-adef-4269-f06e-092d4f076600"
      },
      "execution_count": null,
      "outputs": [
        {
          "output_type": "stream",
          "name": "stdout",
          "text": [
            "['This is a test1This is a test2\\n', 'This is a test3\\n', 'This is test4\\n']\n"
          ]
        }
      ]
    },
    {
      "cell_type": "code",
      "source": [
        "a=open(\"a.txt\", \"r+\") #參數r+會把寫入的資訊附加在檔案開頭\n",
        "a.write(\"This is test5\\n\")\n",
        "a.close()"
      ],
      "metadata": {
        "id": "u0nv4KU_uQqT"
      },
      "execution_count": null,
      "outputs": []
    },
    {
      "cell_type": "code",
      "source": [
        "a=open(\"a.txt\",\"r\")\n",
        "print(a.readlines())\n",
        "a.close()"
      ],
      "metadata": {
        "colab": {
          "base_uri": "https://localhost:8080/"
        },
        "id": "3eXl-FcNuTt1",
        "outputId": "0dfdf18e-08b0-4d3e-b198-e940658a160a"
      },
      "execution_count": null,
      "outputs": [
        {
          "output_type": "stream",
          "name": "stdout",
          "text": [
            "['This is test5\\n', '1This is a test2\\n', 'This is a test3\\n', 'This is test4\\n']\n"
          ]
        }
      ]
    },
    {
      "cell_type": "code",
      "source": [
        "if os.path.isfile(\"a.txt\"): #刪除檔案\n",
        "    os.remove(\"a.txt\")\n",
        "    print(\"檔案刪除成功\")\n",
        "else:\n",
        "    print(\"找不到檔案\")\n",
        "print(os.path.isfile(\"a.txt\"))"
      ],
      "metadata": {
        "colab": {
          "base_uri": "https://localhost:8080/"
        },
        "id": "6_vIgNM0vvUU",
        "outputId": "b75ef48f-e105-4e90-c4fb-a8fc5c5aeefd"
      },
      "execution_count": null,
      "outputs": [
        {
          "output_type": "stream",
          "name": "stdout",
          "text": [
            "檔案刪除成功\n",
            "False\n"
          ]
        }
      ]
    },
    {
      "cell_type": "markdown",
      "source": [
        "# Chap7 錯誤處理\n",
        "try:  \n",
        "except:  \n",
        "else:  \n",
        "finally:  "
      ],
      "metadata": {
        "id": "jWH6Gk6Mv2uD"
      }
    },
    {
      "cell_type": "code",
      "source": [
        "a=10\n",
        "b=20\n",
        "if a<b:\n",
        "    print(n)"
      ],
      "metadata": {
        "id": "Ex2hDXE50Sh2"
      },
      "execution_count": null,
      "outputs": []
    },
    {
      "cell_type": "code",
      "source": [
        "a=10\n",
        "b=20\n",
        "try:\n",
        "    if a<b:\n",
        "        print(n)\n",
        "except:\n",
        "    print(\"錯誤產生\")"
      ],
      "metadata": {
        "id": "2_WObkRa0UQ3"
      },
      "execution_count": null,
      "outputs": []
    },
    {
      "cell_type": "code",
      "source": [
        "a=10\n",
        "b=20\n",
        "try:\n",
        "    if a<b:\n",
        "        print(n)\n",
        "except NameError as e:\n",
        "    print(\"錯誤產生, 錯誤原因：\",e)\n",
        "except ZeroDivisionError:\n",
        "    print(\"除以0錯誤\")"
      ],
      "metadata": {
        "id": "lSoNXGzu0VrU"
      },
      "execution_count": null,
      "outputs": []
    },
    {
      "cell_type": "code",
      "source": [
        "=10\n",
        "b=20\n",
        "try:\n",
        "    if a>b: #改變比較條件，讓錯誤不發生\n",
        "        print(n)\n",
        "except:\n",
        "    print(\"錯誤發生\")\n",
        "else:\n",
        "    print(\"沒有錯誤發生時會執行的部分\")"
      ],
      "metadata": {
        "id": "LuD_WAvc0XSQ"
      },
      "execution_count": null,
      "outputs": []
    },
    {
      "cell_type": "code",
      "source": [
        "a=10\n",
        "b=20\n",
        "try:\n",
        "    if a>b: #改變比較條件，讓錯誤不發生\n",
        "        print(n)\n",
        "except:\n",
        "    print(\"錯誤發生\")\n",
        "else:\n",
        "    print(\"沒有錯誤發生時會執行的部分\")\n",
        "finally:\n",
        "    print(\"不管有沒有錯誤一定會執行的部分\")"
      ],
      "metadata": {
        "id": "_ymbW5VO0ZSt"
      },
      "execution_count": null,
      "outputs": []
    }
  ]
}